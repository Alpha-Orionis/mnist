{
  "nbformat": 4,
  "nbformat_minor": 0,
  "metadata": {
    "colab": {
      "name": "Untitled0.ipynb",
      "provenance": [],
      "collapsed_sections": []
    },
    "kernelspec": {
      "name": "python3",
      "display_name": "Python 3"
    },
    "language_info": {
      "name": "python"
    }
  },
  "cells": [
    {
      "cell_type": "code",
      "execution_count": 26,
      "metadata": {
        "colab": {
          "base_uri": "https://localhost:8080/"
        },
        "id": "pLplFbLZdEXf",
        "outputId": "3389b75b-6070-41c5-ce9a-ebbf05422181"
      },
      "outputs": [
        {
          "output_type": "stream",
          "name": "stdout",
          "text": [
            "1\n"
          ]
        },
        {
          "output_type": "stream",
          "name": "stderr",
          "text": [
            "[1/5] Loss: 1.7364, Acc: 0.7031: 100%|██████████| 38/38 [00:04<00:00,  8.43step/s]\n"
          ]
        },
        {
          "output_type": "stream",
          "name": "stdout",
          "text": [
            "finish\n",
            "2\n"
          ]
        },
        {
          "output_type": "stream",
          "name": "stderr",
          "text": [
            "[2/5] Loss: 1.5985, Acc: 0.8672: 100%|██████████| 38/38 [00:04<00:00,  8.54step/s]\n"
          ]
        },
        {
          "output_type": "stream",
          "name": "stdout",
          "text": [
            "finish\n",
            "3\n"
          ]
        },
        {
          "output_type": "stream",
          "name": "stderr",
          "text": [
            "[3/5] Loss: 1.5806, Acc: 0.8750: 100%|██████████| 38/38 [00:04<00:00,  8.46step/s]\n"
          ]
        },
        {
          "output_type": "stream",
          "name": "stdout",
          "text": [
            "finish\n",
            "4\n"
          ]
        },
        {
          "output_type": "stream",
          "name": "stderr",
          "text": [
            "[4/5] Loss: 1.4926, Acc: 0.9766: 100%|██████████| 38/38 [00:04<00:00,  8.61step/s]\n"
          ]
        },
        {
          "output_type": "stream",
          "name": "stdout",
          "text": [
            "finish\n",
            "5\n"
          ]
        },
        {
          "output_type": "stream",
          "name": "stderr",
          "text": [
            "[5/5] Loss: 1.5363, Acc: 0.9453: 100%|██████████| 38/38 [00:04<00:00,  8.75step/s]"
          ]
        },
        {
          "output_type": "stream",
          "name": "stdout",
          "text": [
            "finish\n"
          ]
        },
        {
          "output_type": "stream",
          "name": "stderr",
          "text": [
            "\n"
          ]
        }
      ],
      "source": [
        "import torch\n",
        "from modles.net2 import Net\n",
        "from torchvision import transforms\n",
        "from torchvision.datasets import ImageFolder\n",
        "from torch.utils.data import DataLoader\n",
        "import torch\n",
        "from tqdm import tqdm\n",
        "\n",
        "batch = 128\n",
        "device = \"cuda:0\" if torch.cuda.is_available() else \"cpu\"\n",
        "# 加上transforms\n",
        "transform = transforms.Compose([\n",
        "    #transforms.Grayscale,\n",
        "    transforms.Resize([28,28]),\n",
        "    transforms.ToTensor(),  # 将图片转换为Tensor\n",
        "])\n",
        "\n",
        "dataset_train = ImageFolder(root='/content/data/train2/', transform=transform)\n",
        "datatrain = DataLoader(dataset_train, batch_size=batch, shuffle=True, drop_last=True)\n",
        "#dataset_test = ImageFolder(root='D:/Datas/Mnist/test/', transform=transform)\n",
        "#datatest = DataLoader(dataset_test, batch_size=batch, shuffle=True, drop_last=True)\n",
        "\n",
        "#将模型转换到device中\n",
        "net = Net()\n",
        "#构建迭代器与损失函数\n",
        "lossF = torch.nn.CrossEntropyLoss()\n",
        "optimizer = torch.optim.Adam(net.parameters())\n",
        "\"\"\"\n",
        "optimizer = torch.optim.SGD(params=net.parameters(),\n",
        "                            lr=0.03,\n",
        "                            momentum=0.9,\n",
        "                            dampening=0.5,\n",
        "                            weight_decay=0.01,\n",
        "                            nesterov=False)\n",
        "\"\"\"\n",
        "#打开网络的训练模式\n",
        "net.train(True)\n",
        "\n",
        "EPOCHS = 5\n",
        "# 存储训练过程\n",
        "history = {'Test Loss': [], 'Test Accuracy': []}\n",
        "for epoch in range(1, EPOCHS + 1):\n",
        "    print(epoch)\n",
        "    # 构建tqdm进度条\n",
        "    processBar = tqdm(datatrain, unit='step')\n",
        "    net.train(True)\n",
        "    for step, (trainImgs, labels) in enumerate(processBar):\n",
        "        trainImgs = trainImgs.to(device)\n",
        "        labels = labels.to(device)\n",
        "\n",
        "        net.zero_grad()\n",
        "        outputs = net(trainImgs)\n",
        "        loss = lossF(outputs, labels)\n",
        "        predictions = torch.argmax(outputs, dim=1)\n",
        "        accuracy = torch.sum(predictions == labels) / labels.shape[0]\n",
        "        loss.backward()\n",
        "\n",
        "        optimizer.step()\n",
        "        processBar.set_description(\"[%d/%d] Loss: %.4f, Acc: %.4f\" %\n",
        "                                   (epoch, EPOCHS, loss.item(), accuracy.item()))\n",
        "\n",
        "    processBar.close()\n",
        "    print(\"finish\")\n",
        "    torch.save(net.state_dict(), '/content/pth/model1.pth')"
      ]
    },
    {
      "cell_type": "markdown",
      "source": [
        ""
      ],
      "metadata": {
        "id": "Qt1XayeakBpt"
      }
    },
    {
      "cell_type": "markdown",
      "source": [
        "# 新段落"
      ],
      "metadata": {
        "id": "TVQpWOwCg68T"
      }
    },
    {
      "cell_type": "code",
      "source": [
        "from modles.net2 import Net\n",
        "import torch\n",
        "from PIL import Image as im\n",
        "from PIL import Image\n",
        "import numpy as np\n",
        "\n",
        "nets = Net()\n",
        "device = \"cuda:0\" if torch.cuda.is_available() else \"cpu\"\n",
        "model_path = r\"/content/pth/model1.pth\"\n",
        "stat_dict = torch.load(model_path, map_location=torch.device('cpu'))\n",
        "nets.load_state_dict(stat_dict)\n",
        "nets.to(device)\n",
        "nets.eval()\n",
        "img = im.open(r\"./78.jpg\")\n",
        "img = img.resize((28, 28))\n",
        "img = np.asarray(img)\n",
        "img2 = img.transpose(2, 0, 1)\n",
        "\"\"\"\n",
        "对单通道图片的变换：\n",
        "img2 = np.ones((3, 28, 28))\n",
        "img2[0, :, :] = img\n",
        "img2[1, :, :] = img\n",
        "img2[2, :, :] = img\n",
        "\"\"\"\n",
        "img_in = torch.from_numpy(img2)\n",
        "img_in = torch.unsqueeze(img_in, dim=0)\n",
        "img_in = img_in.to(device)\n",
        "img_in = img_in.float()\n",
        "result_org = nets(img_in)\n",
        "print(result_org)\n"
      ],
      "metadata": {
        "colab": {
          "base_uri": "https://localhost:8080/"
        },
        "id": "xOS51-QGl9XQ",
        "outputId": "6c86126b-cfbe-483f-c847-c053e68ebd35"
      },
      "execution_count": 27,
      "outputs": [
        {
          "output_type": "stream",
          "name": "stdout",
          "text": [
            "tensor([[0., 0., 0., 0., 0., 0., 0., 1., 0., 0.]], grad_fn=<SoftmaxBackward0>)\n"
          ]
        }
      ]
    },
    {
      "cell_type": "code",
      "source": [
        "\n",
        "import zipfile\n",
        "f = zipfile.ZipFile(\"/content/train2.zip\", 'r')\n",
        "for names in f.namelist():\n",
        "        f.extract(names, r\"/content/data\")\n",
        "f.close()\n"
      ],
      "metadata": {
        "id": "2zLxpC6KhFxq"
      },
      "execution_count": 23,
      "outputs": []
    }
  ]
}